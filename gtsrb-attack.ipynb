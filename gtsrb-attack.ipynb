{
 "cells": [
  {
   "cell_type": "markdown",
   "metadata": {},
   "source": [
    "# Black-Box Attack on a Traffic Sign Classification Model"
   ]
  },
  {
   "cell_type": "code",
   "execution_count": 43,
   "metadata": {},
   "outputs": [],
   "source": [
    "import numpy as np\n",
    "import warnings\n",
    "from pathlib import Path\n",
    "from imageio import imread\n",
    "from matplotlib import pyplot as plt\n",
    "from tqdm import tqdm_notebook as tqdm\n",
    "\n",
    "from skimage.transform import resize\n",
    "from skimage.color import rgb2hsv, hsv2rgb\n",
    "from skimage.io import imread\n",
    "from skimage.exposure import equalize_hist\n",
    "\n",
    "from sklearn.metrics import confusion_matrix, accuracy_score\n",
    "from sklearn.model_selection import train_test_split\n",
    "\n",
    "from keras.applications import *\n",
    "from keras.models import Model"
   ]
  },
  {
   "cell_type": "markdown",
   "metadata": {},
   "source": [
    "## Data Loading and Preprocessing"
   ]
  },
  {
   "cell_type": "code",
   "execution_count": 20,
   "metadata": {},
   "outputs": [],
   "source": [
    "# ! mkdir data\n",
    "# ! wget http://benchmark.ini.rub.de/Dataset/GTSRB_Final_Training_Images.zip -P data\n",
    "# ! wget http://benchmark.ini.rub.de/Dataset/GTSRB_Final_Test_Images.zip -P data\n",
    "# ! wget http://benchmark.ini.rub.de/Dataset/GTSRB_Final_Test_GT.zip -P data\n",
    "# ! unzip data/GTSRB_Final_Training_Images.zip -d data\n",
    "# ! unzip data/GTSRB_Final_Test_Images.zip -d data\n",
    "# ! unzip data/GTSRB_Final_Test_GT.zip -d data\n",
    "# ! rm data/*.zip"
   ]
  },
  {
   "cell_type": "code",
   "execution_count": 51,
   "metadata": {},
   "outputs": [],
   "source": [
    "def preprocess_image(image,size=len(image)):\n",
    "    # histogram normalization in v channel\n",
    "    hsv = rgb2hsv(image)\n",
    "    hsv[:,:,2] = equalize_hist(hsv[:,:,2])\n",
    "    image = hsv2rgb(hsv)\n",
    "    # central square crop\n",
    "    min_side = min(image.shape[:-1])\n",
    "    center = image.shape[0] // 2, image.shape[1] // 2\n",
    "    image = image[center[0]-min_side//2:center[0]+min_side//2,center[1]-min_side//2:center[1]+min_side//2,:]\n",
    "    # rescale to standard size\n",
    "    image = resize(image, (size,size))\n",
    "    # roll color axis to axis 0\n",
    "    # image = np.rollaxis(image, -1)\n",
    "    return image\n",
    "\n",
    "def get_class(image_path):\n",
    "    return int(str(image_path).split('/')[-2])"
   ]
  },
  {
   "cell_type": "code",
   "execution_count": 52,
   "metadata": {},
   "outputs": [
    {
     "data": {
      "application/vnd.jupyter.widget-view+json": {
       "model_id": "aa2585463b52477489028668bfcd1556",
       "version_major": 2,
       "version_minor": 0
      },
      "text/plain": [
       "HBox(children=(IntProgress(value=0, max=39209), HTML(value='')))"
      ]
     },
     "metadata": {},
     "output_type": "display_data"
    }
   ],
   "source": [
    "warnings.filterwarnings('ignore')\n",
    "\n",
    "data_dir = Path('./data/GTSRB/Final_Training/Images')\n",
    "images = []\n",
    "labels = []\n",
    "\n",
    "image_paths = list(data_dir.glob('*/*.ppm'))\n",
    "np.random.shuffle(image_paths)\n",
    "for image_path in tqdm(image_paths):\n",
    "    image = imread(image_path)\n",
    "    image = preprocess_image(image,size=48)\n",
    "    images.append(image)\n",
    "    label = get_class(image_path)\n",
    "    labels.append(label)\n",
    "\n",
    "X = np.array(images, dtype='float32')\n",
    "y = np.eye(max(labels)+1, dtype='uint8')[labels]"
   ]
  },
  {
   "cell_type": "code",
   "execution_count": 53,
   "metadata": {},
   "outputs": [
    {
     "data": {
      "text/plain": [
       "((39209, 48, 48, 3), (39209, 43))"
      ]
     },
     "execution_count": 53,
     "metadata": {},
     "output_type": "execute_result"
    }
   ],
   "source": [
    "# show pics of images\n",
    "X.shape, y.shape"
   ]
  },
  {
   "cell_type": "markdown",
   "metadata": {},
   "source": [
    "## Training Black-Box Model"
   ]
  },
  {
   "cell_type": "code",
   "execution_count": null,
   "metadata": {},
   "outputs": [],
   "source": [
    "# resnet-50 with finetuning"
   ]
  },
  {
   "cell_type": "code",
   "execution_count": null,
   "metadata": {},
   "outputs": [],
   "source": []
  },
  {
   "cell_type": "markdown",
   "metadata": {},
   "source": [
    "## Training Substitute Model"
   ]
  },
  {
   "cell_type": "code",
   "execution_count": null,
   "metadata": {},
   "outputs": [],
   "source": [
    "# vgg-16 with finetuning"
   ]
  },
  {
   "cell_type": "code",
   "execution_count": null,
   "metadata": {},
   "outputs": [],
   "source": []
  },
  {
   "cell_type": "markdown",
   "metadata": {},
   "source": [
    "## Training Aversarial Examples"
   ]
  },
  {
   "cell_type": "code",
   "execution_count": null,
   "metadata": {},
   "outputs": [],
   "source": [
    "# fast gradient method"
   ]
  },
  {
   "cell_type": "code",
   "execution_count": null,
   "metadata": {},
   "outputs": [],
   "source": []
  },
  {
   "cell_type": "markdown",
   "metadata": {},
   "source": [
    "## Attacking the Black-Box Model"
   ]
  },
  {
   "cell_type": "code",
   "execution_count": null,
   "metadata": {},
   "outputs": [],
   "source": [
    "# get misclassification rate on adversarial samples"
   ]
  },
  {
   "cell_type": "code",
   "execution_count": null,
   "metadata": {},
   "outputs": [],
   "source": []
  }
 ],
 "metadata": {
  "kernelspec": {
   "display_name": "Python 3",
   "language": "python",
   "name": "python3"
  },
  "language_info": {
   "codemirror_mode": {
    "name": "ipython",
    "version": 3
   },
   "file_extension": ".py",
   "mimetype": "text/x-python",
   "name": "python",
   "nbconvert_exporter": "python",
   "pygments_lexer": "ipython3",
   "version": "3.6.6"
  }
 },
 "nbformat": 4,
 "nbformat_minor": 2
}
